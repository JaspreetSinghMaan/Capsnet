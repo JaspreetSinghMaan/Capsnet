{
  "nbformat": 4,
  "nbformat_minor": 0,
  "metadata": {
    "kernelspec": {
      "display_name": "Python 3",
      "language": "python",
      "name": "python3"
    },
    "language_info": {
      "codemirror_mode": {
        "name": "ipython",
        "version": 3
      },
      "file_extension": ".py",
      "mimetype": "text/x-python",
      "name": "python",
      "nbconvert_exporter": "python",
      "pygments_lexer": "ipython3",
      "version": "3.6.3"
    },
    "colab": {
      "name": "Capsnets_MNIST.ipynb",
      "provenance": [],
      "collapsed_sections": [
        "QZ7lBD-Wu1RF",
        "XJmkrQmwu1RP",
        "xPkyMUXwu1Rk",
        "2dAIQph_u1Ro",
        "G3_k-OL-u1SE",
        "jK1yFoBbu1SG",
        "oiZgs_QJu1Sy",
        "rHGvhdKEu1S4",
        "YG_gjtGnu1TS",
        "DXgI5Sidu1T0",
        "6mg3Q-xuu1UA",
        "qs71kiPuu1Ui",
        "3QTDGgXLu1Ur",
        "IhbeNML8u1VO",
        "mucsmnUou1VP",
        "iVypMU9ou1V7",
        "5aqjXQvSu1WE",
        "a9ztbaGLu1WH",
        "G9OoRkLou1WL",
        "LCGHnI5tu1WL",
        "7xSCSgbzu1WS",
        "EZfydyA6u1WV",
        "92j_JjbUu1Wh",
        "NZ0jiFyXu1Wk",
        "53mbVrB8u1Wr",
        "TZ7l7Rblu1W7"
      ],
      "toc_visible": true
    }
  },
  "cells": [
    {
      "cell_type": "markdown",
      "metadata": {
        "id": "VmsRdN-Uu1Qh",
        "colab_type": "text"
      },
      "source": [
        "# Capsule Networks (CapsNets)"
      ]
    },
    {
      "cell_type": "markdown",
      "metadata": {
        "id": "SvwrXdVxu1Qk",
        "colab_type": "text"
      },
      "source": [
        "Based on the paper: [Dynamic Routing Between Capsules](https://arxiv.org/abs/1710.09829), by Sara Sabour, Nicholas Frosst and Geoffrey E. Hinton (NIPS 2017)."
      ]
    },
    {
      "cell_type": "markdown",
      "metadata": {
        "id": "qpnKM85Du1Ql",
        "colab_type": "text"
      },
      "source": [
        "Inspired in part from Huadong Liao's implementation: [CapsNet-TensorFlow](https://github.com/naturomics/CapsNet-Tensorflow)."
      ]
    },
    {
      "cell_type": "markdown",
      "metadata": {
        "id": "9G2Wly-Cu1Qm",
        "colab_type": "text"
      },
      "source": [
        "# Introduction"
      ]
    },
    {
      "cell_type": "code",
      "metadata": {
        "id": "5rTrkO7pvWGS",
        "colab_type": "code",
        "outputId": "7ae5b628-c531-4357-a6ed-4d06e195b52c",
        "colab": {
          "base_uri": "https://localhost:8080/",
          "height": 853
        }
      },
      "source": [
        "pip install tensorflow==1.15.0"
      ],
      "execution_count": 1,
      "outputs": [
        {
          "output_type": "stream",
          "text": [
            "Collecting tensorflow==1.15.0\n",
            "\u001b[?25l  Downloading https://files.pythonhosted.org/packages/3f/98/5a99af92fb911d7a88a0005ad55005f35b4c1ba8d75fba02df726cd936e6/tensorflow-1.15.0-cp36-cp36m-manylinux2010_x86_64.whl (412.3MB)\n",
            "\u001b[K     |████████████████████████████████| 412.3MB 26kB/s \n",
            "\u001b[?25hRequirement already satisfied: six>=1.10.0 in /usr/local/lib/python3.6/dist-packages (from tensorflow==1.15.0) (1.12.0)\n",
            "Collecting tensorboard<1.16.0,>=1.15.0\n",
            "\u001b[?25l  Downloading https://files.pythonhosted.org/packages/1e/e9/d3d747a97f7188f48aa5eda486907f3b345cd409f0a0850468ba867db246/tensorboard-1.15.0-py3-none-any.whl (3.8MB)\n",
            "\u001b[K     |████████████████████████████████| 3.8MB 42.9MB/s \n",
            "\u001b[?25hRequirement already satisfied: keras-applications>=1.0.8 in /usr/local/lib/python3.6/dist-packages (from tensorflow==1.15.0) (1.0.8)\n",
            "Requirement already satisfied: numpy<2.0,>=1.16.0 in /usr/local/lib/python3.6/dist-packages (from tensorflow==1.15.0) (1.18.4)\n",
            "Requirement already satisfied: wheel>=0.26 in /usr/local/lib/python3.6/dist-packages (from tensorflow==1.15.0) (0.34.2)\n",
            "Requirement already satisfied: termcolor>=1.1.0 in /usr/local/lib/python3.6/dist-packages (from tensorflow==1.15.0) (1.1.0)\n",
            "Requirement already satisfied: wrapt>=1.11.1 in /usr/local/lib/python3.6/dist-packages (from tensorflow==1.15.0) (1.12.1)\n",
            "Requirement already satisfied: astor>=0.6.0 in /usr/local/lib/python3.6/dist-packages (from tensorflow==1.15.0) (0.8.1)\n",
            "Requirement already satisfied: absl-py>=0.7.0 in /usr/local/lib/python3.6/dist-packages (from tensorflow==1.15.0) (0.9.0)\n",
            "Collecting gast==0.2.2\n",
            "  Downloading https://files.pythonhosted.org/packages/4e/35/11749bf99b2d4e3cceb4d55ca22590b0d7c2c62b9de38ac4a4a7f4687421/gast-0.2.2.tar.gz\n",
            "Requirement already satisfied: keras-preprocessing>=1.0.5 in /usr/local/lib/python3.6/dist-packages (from tensorflow==1.15.0) (1.1.0)\n",
            "Requirement already satisfied: protobuf>=3.6.1 in /usr/local/lib/python3.6/dist-packages (from tensorflow==1.15.0) (3.10.0)\n",
            "Requirement already satisfied: grpcio>=1.8.6 in /usr/local/lib/python3.6/dist-packages (from tensorflow==1.15.0) (1.28.1)\n",
            "Requirement already satisfied: google-pasta>=0.1.6 in /usr/local/lib/python3.6/dist-packages (from tensorflow==1.15.0) (0.2.0)\n",
            "Collecting tensorflow-estimator==1.15.1\n",
            "\u001b[?25l  Downloading https://files.pythonhosted.org/packages/de/62/2ee9cd74c9fa2fa450877847ba560b260f5d0fb70ee0595203082dafcc9d/tensorflow_estimator-1.15.1-py2.py3-none-any.whl (503kB)\n",
            "\u001b[K     |████████████████████████████████| 512kB 37.6MB/s \n",
            "\u001b[?25hRequirement already satisfied: opt-einsum>=2.3.2 in /usr/local/lib/python3.6/dist-packages (from tensorflow==1.15.0) (3.2.1)\n",
            "Requirement already satisfied: werkzeug>=0.11.15 in /usr/local/lib/python3.6/dist-packages (from tensorboard<1.16.0,>=1.15.0->tensorflow==1.15.0) (1.0.1)\n",
            "Requirement already satisfied: markdown>=2.6.8 in /usr/local/lib/python3.6/dist-packages (from tensorboard<1.16.0,>=1.15.0->tensorflow==1.15.0) (3.2.1)\n",
            "Requirement already satisfied: setuptools>=41.0.0 in /usr/local/lib/python3.6/dist-packages (from tensorboard<1.16.0,>=1.15.0->tensorflow==1.15.0) (46.1.3)\n",
            "Requirement already satisfied: h5py in /usr/local/lib/python3.6/dist-packages (from keras-applications>=1.0.8->tensorflow==1.15.0) (2.10.0)\n",
            "Building wheels for collected packages: gast\n",
            "  Building wheel for gast (setup.py) ... \u001b[?25l\u001b[?25hdone\n",
            "  Created wheel for gast: filename=gast-0.2.2-cp36-none-any.whl size=7540 sha256=913a7a67ee5555be2e0aaad8ce781aec65114a480016baf711a06376ff56b89d\n",
            "  Stored in directory: /root/.cache/pip/wheels/5c/2e/7e/a1d4d4fcebe6c381f378ce7743a3ced3699feb89bcfbdadadd\n",
            "Successfully built gast\n",
            "\u001b[31mERROR: tensorflow-probability 0.10.0rc0 has requirement gast>=0.3.2, but you'll have gast 0.2.2 which is incompatible.\u001b[0m\n",
            "Installing collected packages: tensorboard, gast, tensorflow-estimator, tensorflow\n",
            "  Found existing installation: tensorboard 2.2.1\n",
            "    Uninstalling tensorboard-2.2.1:\n",
            "      Successfully uninstalled tensorboard-2.2.1\n",
            "  Found existing installation: gast 0.3.3\n",
            "    Uninstalling gast-0.3.3:\n",
            "      Successfully uninstalled gast-0.3.3\n",
            "  Found existing installation: tensorflow-estimator 2.2.0\n",
            "    Uninstalling tensorflow-estimator-2.2.0:\n",
            "      Successfully uninstalled tensorflow-estimator-2.2.0\n",
            "  Found existing installation: tensorflow 2.2.0\n",
            "    Uninstalling tensorflow-2.2.0:\n",
            "      Successfully uninstalled tensorflow-2.2.0\n",
            "Successfully installed gast-0.2.2 tensorboard-1.15.0 tensorflow-1.15.0 tensorflow-estimator-1.15.1\n"
          ],
          "name": "stdout"
        }
      ]
    },
    {
      "cell_type": "markdown",
      "metadata": {
        "id": "N8R_NTlqu1Qz",
        "colab_type": "text"
      },
      "source": [
        "# Imports"
      ]
    },
    {
      "cell_type": "markdown",
      "metadata": {
        "id": "h-3HqNAZu1Q0",
        "colab_type": "text"
      },
      "source": [
        "To support both Python 2 and Python 3:"
      ]
    },
    {
      "cell_type": "code",
      "metadata": {
        "id": "ETv54WEGu1Q1",
        "colab_type": "code",
        "colab": {}
      },
      "source": [
        "from __future__ import division, print_function, unicode_literals"
      ],
      "execution_count": 0,
      "outputs": []
    },
    {
      "cell_type": "markdown",
      "metadata": {
        "id": "RfFwQkX1u1Q6",
        "colab_type": "text"
      },
      "source": [
        "To plot pretty figures:"
      ]
    },
    {
      "cell_type": "code",
      "metadata": {
        "id": "Z4pJbGeXu1Q6",
        "colab_type": "code",
        "colab": {}
      },
      "source": [
        "%matplotlib inline\n",
        "import matplotlib\n",
        "import matplotlib.pyplot as plt"
      ],
      "execution_count": 0,
      "outputs": []
    },
    {
      "cell_type": "markdown",
      "metadata": {
        "id": "EzlikWYVu1Q_",
        "colab_type": "text"
      },
      "source": [
        "We will need NumPy and TensorFlow:"
      ]
    },
    {
      "cell_type": "code",
      "metadata": {
        "id": "pJKOP4fbu1RA",
        "colab_type": "code",
        "colab": {}
      },
      "source": [
        "import numpy as np\n",
        "import tensorflow as tf"
      ],
      "execution_count": 0,
      "outputs": []
    },
    {
      "cell_type": "markdown",
      "metadata": {
        "id": "QZ7lBD-Wu1RF",
        "colab_type": "text"
      },
      "source": [
        "# Reproducibility"
      ]
    },
    {
      "cell_type": "markdown",
      "metadata": {
        "id": "P_Vb6pK4u1RG",
        "colab_type": "text"
      },
      "source": [
        "Let's reset the default graph, in case you re-run this notebook without restarting the kernel:"
      ]
    },
    {
      "cell_type": "code",
      "metadata": {
        "id": "hFj8IFsNu1RG",
        "colab_type": "code",
        "colab": {}
      },
      "source": [
        "tf.reset_default_graph()"
      ],
      "execution_count": 0,
      "outputs": []
    },
    {
      "cell_type": "markdown",
      "metadata": {
        "id": "UVsNzLAvu1RL",
        "colab_type": "text"
      },
      "source": [
        "Let's set the random seeds so that this notebook always produces the same output:"
      ]
    },
    {
      "cell_type": "code",
      "metadata": {
        "id": "7pKx9_SMu1RL",
        "colab_type": "code",
        "colab": {}
      },
      "source": [
        "np.random.seed(42)\n",
        "tf.set_random_seed(42)"
      ],
      "execution_count": 0,
      "outputs": []
    },
    {
      "cell_type": "markdown",
      "metadata": {
        "id": "XJmkrQmwu1RP",
        "colab_type": "text"
      },
      "source": [
        "# Load MNIST"
      ]
    },
    {
      "cell_type": "markdown",
      "metadata": {
        "id": "ul4kPhztu1RQ",
        "colab_type": "text"
      },
      "source": [
        "Yes, I know, it's MNIST again. But hopefully this powerful idea will work as well on larger datasets, time will tell."
      ]
    },
    {
      "cell_type": "code",
      "metadata": {
        "id": "jBvFTXEVu1RR",
        "colab_type": "code",
        "outputId": "ac24465b-dc56-4462-cbda-46676a2885e0",
        "colab": {
          "base_uri": "https://localhost:8080/",
          "height": 479
        }
      },
      "source": [
        "from tensorflow.examples.tutorials.mnist import input_data\n",
        "\n",
        "mnist = input_data.read_data_sets(\"/tmp/data/\")"
      ],
      "execution_count": 7,
      "outputs": [
        {
          "output_type": "stream",
          "text": [
            "WARNING:tensorflow:From <ipython-input-7-4141630e56b4>:3: read_data_sets (from tensorflow.contrib.learn.python.learn.datasets.mnist) is deprecated and will be removed in a future version.\n",
            "Instructions for updating:\n",
            "Please use alternatives such as official/mnist/dataset.py from tensorflow/models.\n",
            "WARNING:tensorflow:From /usr/local/lib/python3.6/dist-packages/tensorflow_core/contrib/learn/python/learn/datasets/mnist.py:260: maybe_download (from tensorflow.contrib.learn.python.learn.datasets.base) is deprecated and will be removed in a future version.\n",
            "Instructions for updating:\n",
            "Please write your own downloading logic.\n",
            "WARNING:tensorflow:From /usr/local/lib/python3.6/dist-packages/tensorflow_core/contrib/learn/python/learn/datasets/base.py:252: _internal_retry.<locals>.wrap.<locals>.wrapped_fn (from tensorflow.contrib.learn.python.learn.datasets.base) is deprecated and will be removed in a future version.\n",
            "Instructions for updating:\n",
            "Please use urllib or similar directly.\n",
            "Successfully downloaded train-images-idx3-ubyte.gz 9912422 bytes.\n",
            "WARNING:tensorflow:From /usr/local/lib/python3.6/dist-packages/tensorflow_core/contrib/learn/python/learn/datasets/mnist.py:262: extract_images (from tensorflow.contrib.learn.python.learn.datasets.mnist) is deprecated and will be removed in a future version.\n",
            "Instructions for updating:\n",
            "Please use tf.data to implement this functionality.\n",
            "Extracting /tmp/data/train-images-idx3-ubyte.gz\n",
            "Successfully downloaded train-labels-idx1-ubyte.gz 28881 bytes.\n",
            "WARNING:tensorflow:From /usr/local/lib/python3.6/dist-packages/tensorflow_core/contrib/learn/python/learn/datasets/mnist.py:267: extract_labels (from tensorflow.contrib.learn.python.learn.datasets.mnist) is deprecated and will be removed in a future version.\n",
            "Instructions for updating:\n",
            "Please use tf.data to implement this functionality.\n",
            "Extracting /tmp/data/train-labels-idx1-ubyte.gz\n",
            "Successfully downloaded t10k-images-idx3-ubyte.gz 1648877 bytes.\n",
            "Extracting /tmp/data/t10k-images-idx3-ubyte.gz\n",
            "Successfully downloaded t10k-labels-idx1-ubyte.gz 4542 bytes.\n",
            "Extracting /tmp/data/t10k-labels-idx1-ubyte.gz\n",
            "WARNING:tensorflow:From /usr/local/lib/python3.6/dist-packages/tensorflow_core/contrib/learn/python/learn/datasets/mnist.py:290: DataSet.__init__ (from tensorflow.contrib.learn.python.learn.datasets.mnist) is deprecated and will be removed in a future version.\n",
            "Instructions for updating:\n",
            "Please use alternatives such as official/mnist/dataset.py from tensorflow/models.\n"
          ],
          "name": "stdout"
        }
      ]
    },
    {
      "cell_type": "markdown",
      "metadata": {
        "id": "rXswbFdFu1RX",
        "colab_type": "text"
      },
      "source": [
        "Let's look at what these hand-written digit images look like:"
      ]
    },
    {
      "cell_type": "code",
      "metadata": {
        "id": "r7g4plOKu1RZ",
        "colab_type": "code",
        "outputId": "f03da42d-8e1e-4467-b059-b91e360fc43c",
        "colab": {
          "base_uri": "https://localhost:8080/",
          "height": 127
        }
      },
      "source": [
        "n_samples = 5\n",
        "\n",
        "plt.figure(figsize=(n_samples * 2, 3))\n",
        "for index in range(n_samples):\n",
        "    plt.subplot(1, n_samples, index + 1)\n",
        "    sample_image = mnist.train.images[index].reshape(28, 28)\n",
        "    plt.imshow(sample_image, cmap=\"binary\")\n",
        "    plt.axis(\"off\")\n",
        "\n",
        "plt.show()"
      ],
      "execution_count": 8,
      "outputs": [
        {
          "output_type": "display_data",
          "data": {
            "image/png": "[encoded data removed]",
            "text/plain": [
              "<Figure size 720x216 with 5 Axes>"
            ]
          },
          "metadata": {
            "tags": [],
            "needs_background": "light"
          }
        }
      ]
    },
    {
      "cell_type": "markdown",
      "metadata": {
        "id": "Z0yU3kzju1Rd",
        "colab_type": "text"
      },
      "source": [
        "And these are the corresponding labels:"
      ]
    },
    {
      "cell_type": "code",
      "metadata": {
        "id": "bzf0pKMfu1Re",
        "colab_type": "code",
        "outputId": "c0c06175-ad78-4299-b572-08138f6ba05f",
        "colab": {
          "base_uri": "https://localhost:8080/",
          "height": 34
        }
      },
      "source": [
        "mnist.train.labels[:n_samples]"
      ],
      "execution_count": 9,
      "outputs": [
        {
          "output_type": "execute_result",
          "data": {
            "text/plain": [
              "array([7, 3, 4, 6, 1], dtype=uint8)"
            ]
          },
          "metadata": {
            "tags": []
          },
          "execution_count": 9
        }
      ]
    },
    {
      "cell_type": "markdown",
      "metadata": {
        "id": "JwXW72R-u1Ri",
        "colab_type": "text"
      },
      "source": [
        "Now let's build a Capsule Network to classify these images. Here's the overall architecture, enjoy the ASCII art! ;-)\n",
        "Note: for readability, I left out two arrows: Labels → Mask, and Input Images → Reconstruction Loss."
      ]
    },
    {
      "cell_type": "markdown",
      "metadata": {
        "id": "zJfgFq0ru1Ri",
        "colab_type": "text"
      },
      "source": [
        "```\n",
        "                            Loss\n",
        "                              ↑\n",
        "                    ┌─────────┴─────────┐\n",
        "      Labels → Margin Loss      Reconstruction Loss\n",
        "                    ↑                   ↑\n",
        "                  Length             Decoder\n",
        "                    ↑                   ↑ \n",
        "             Digit Capsules ────Mask────┘\n",
        "               ↖↑↗ ↖↑↗ ↖↑↗\n",
        "             Primary Capsules\n",
        "                    ↑      \n",
        "               Input Images\n",
        "```"
      ]
    },
    {
      "cell_type": "markdown",
      "metadata": {
        "id": "oTLABk58u1Rj",
        "colab_type": "text"
      },
      "source": [
        "We are going to build the graph starting from the bottom layer, and gradually move up, left side first. Let's go!"
      ]
    },
    {
      "cell_type": "markdown",
      "metadata": {
        "id": "xPkyMUXwu1Rk",
        "colab_type": "text"
      },
      "source": [
        "# Input Images"
      ]
    },
    {
      "cell_type": "markdown",
      "metadata": {
        "id": "Bclr7s-Fu1Rk",
        "colab_type": "text"
      },
      "source": [
        "Let's start by creating a placeholder for the input images (28×28 pixels, 1 color channel = grayscale)."
      ]
    },
    {
      "cell_type": "code",
      "metadata": {
        "id": "P44q8Ungu1Rl",
        "colab_type": "code",
        "colab": {}
      },
      "source": [
        "X = tf.placeholder(shape=[None, 28, 28, 1], dtype=tf.float32, name=\"X\")"
      ],
      "execution_count": 0,
      "outputs": []
    },
    {
      "cell_type": "markdown",
      "metadata": {
        "id": "2dAIQph_u1Ro",
        "colab_type": "text"
      },
      "source": [
        "# Primary Capsules"
      ]
    },
    {
      "cell_type": "markdown",
      "metadata": {
        "id": "srSZBfnBu1Rp",
        "colab_type": "text"
      },
      "source": [
        "The first layer will be composed of 32 maps of 6×6 capsules each, where each capsule will output an 8D activation vector:"
      ]
    },
    {
      "cell_type": "code",
      "metadata": {
        "id": "iwkjn_Kuu1Rq",
        "colab_type": "code",
        "colab": {}
      },
      "source": [
        "caps1_n_maps = 32\n",
        "caps1_n_caps = caps1_n_maps * 6 * 6  # 1152 primary capsules\n",
        "caps1_n_dims = 8"
      ],
      "execution_count": 0,
      "outputs": []
    },
    {
      "cell_type": "markdown",
      "metadata": {
        "id": "urqJFw_Mu1Rt",
        "colab_type": "text"
      },
      "source": [
        "To compute their outputs, we first apply two regular convolutional layers:"
      ]
    },
    {
      "cell_type": "code",
      "metadata": {
        "id": "BYzqp0Seu1Ru",
        "colab_type": "code",
        "colab": {}
      },
      "source": [
        "conv1_params = {\n",
        "    \"filters\": 256,\n",
        "    \"kernel_size\": 9,\n",
        "    \"strides\": 1,\n",
        "    \"padding\": \"valid\",\n",
        "    \"activation\": tf.nn.relu,\n",
        "}\n",
        "\n",
        "conv2_params = {\n",
        "    \"filters\": caps1_n_maps * caps1_n_dims, # 256 convolutional filters\n",
        "    \"kernel_size\": 9,\n",
        "    \"strides\": 2,\n",
        "    \"padding\": \"valid\",\n",
        "    \"activation\": tf.nn.relu\n",
        "}"
      ],
      "execution_count": 0,
      "outputs": []
    },
    {
      "cell_type": "code",
      "metadata": {
        "id": "2VdJt3uVu1Ry",
        "colab_type": "code",
        "outputId": "34619fc2-4bb8-4c6e-ad87-aab08ac590eb",
        "colab": {
          "base_uri": "https://localhost:8080/",
          "height": 139
        }
      },
      "source": [
        "conv1 = tf.layers.conv2d(X, name=\"conv1\", **conv1_params)\n",
        "conv2 = tf.layers.conv2d(conv1, name=\"conv2\", **conv2_params)"
      ],
      "execution_count": 13,
      "outputs": [
        {
          "output_type": "stream",
          "text": [
            "WARNING:tensorflow:From <ipython-input-13-3a2df923b7cc>:1: conv2d (from tensorflow.python.layers.convolutional) is deprecated and will be removed in a future version.\n",
            "Instructions for updating:\n",
            "Use `tf.keras.layers.Conv2D` instead.\n",
            "WARNING:tensorflow:From /usr/local/lib/python3.6/dist-packages/tensorflow_core/python/layers/convolutional.py:424: Layer.apply (from tensorflow.python.keras.engine.base_layer) is deprecated and will be removed in a future version.\n",
            "Instructions for updating:\n",
            "Please use `layer.__call__` method instead.\n"
          ],
          "name": "stdout"
        }
      ]
    },
    {
      "cell_type": "markdown",
      "metadata": {
        "id": "djz-4Kj5u1R2",
        "colab_type": "text"
      },
      "source": [
        "Note: since we used a kernel size of 9 and no padding (for some reason, that's what `\"valid\"` means), the image shrunk by 9-1=8 pixels after each convolutional layer (28×28 to 20×20, then 20×20 to 12×12), and since we used a stride of 2 in the second convolutional layer, the image size was divided by 2. This is how we end up with 6×6 feature maps."
      ]
    },
    {
      "cell_type": "markdown",
      "metadata": {
        "id": "hOOvtjZKu1R3",
        "colab_type": "text"
      },
      "source": [
        "Next, we reshape the output to get a bunch of 8D vectors representing the outputs of the primary capsules. The output of `conv2` is an array containing 32×8=256 feature maps for each instance, where each feature map is 6×6. So the shape of this output is (_batch size_, 6, 6, 256). We want to chop the 256 into 32 vectors of 8 dimensions each. We could do this by reshaping to (_batch size_, 6, 6, 32, 8). However, since this first capsule layer will be fully connected to the next capsule layer, we can simply flatten the 6×6 grids. This means we just need to reshape to (_batch size_, 6×6×32, 8)."
      ]
    },
    {
      "cell_type": "code",
      "metadata": {
        "id": "Q_tg7ebDu1R4",
        "colab_type": "code",
        "colab": {}
      },
      "source": [
        "caps1_raw = tf.reshape(conv2, [-1, caps1_n_caps, caps1_n_dims],\n",
        "                       name=\"caps1_raw\")"
      ],
      "execution_count": 0,
      "outputs": []
    },
    {
      "cell_type": "markdown",
      "metadata": {
        "id": "sTM-kcDwu1R7",
        "colab_type": "text"
      },
      "source": [
        "Now we need to squash these vectors. Let's define the `squash()` function, based on equation (1) from the paper:\n",
        "\n",
        "$\\operatorname{squash}(\\mathbf{s}) = \\dfrac{\\|\\mathbf{s}\\|^2}{1 + \\|\\mathbf{s}\\|^2} \\dfrac{\\mathbf{s}}{\\|\\mathbf{s}\\|}$\n",
        "\n",
        "The `squash()` function will squash all vectors in the given array, along the given axis (by default, the last axis).\n",
        "\n",
        "**Caution**, a nasty bug is waiting to bite you: the derivative of $\\|\\mathbf{s}\\|$ is undefined when $\\|\\mathbf{s}\\|=0$, so we can't just use `tf.norm()`, or else it will blow up during training: if a vector is zero, the gradients will be `nan`, so when the optimizer updates the variables, they will also become `nan`, and from then on you will be stuck in `nan` land. The solution is to implement the norm manually by computing the square root of the sum of squares plus a tiny epsilon value: $\\|\\mathbf{s}\\| \\approx \\sqrt{\\sum\\limits_i{{s_i}^2}\\,\\,+ \\epsilon}$."
      ]
    },
    {
      "cell_type": "code",
      "metadata": {
        "id": "KBQm0JQIu1R8",
        "colab_type": "code",
        "colab": {}
      },
      "source": [
        "def squash(s, axis=-1, epsilon=1e-7, name=None):\n",
        "    with tf.name_scope(name, default_name=\"squash\"):\n",
        "        squared_norm = tf.reduce_sum(tf.square(s), axis=axis,\n",
        "                                     keep_dims=True)\n",
        "        safe_norm = tf.sqrt(squared_norm + epsilon)\n",
        "        squash_factor = squared_norm / (1. + squared_norm)\n",
        "        unit_vector = s / safe_norm\n",
        "        return squash_factor * unit_vector"
      ],
      "execution_count": 0,
      "outputs": []
    },
    {
      "cell_type": "markdown",
      "metadata": {
        "id": "8qBeM3dFu1R_",
        "colab_type": "text"
      },
      "source": [
        "Now let's apply this function to get the output $\\mathbf{u}_i$ of each primary capsules $i$ :"
      ]
    },
    {
      "cell_type": "code",
      "metadata": {
        "id": "AP3oRgjWu1SA",
        "colab_type": "code",
        "outputId": "d7442031-831b-46ad-a79f-0f0fb0f985f0",
        "colab": {
          "base_uri": "https://localhost:8080/",
          "height": 105
        }
      },
      "source": [
        "caps1_output = squash(caps1_raw, name=\"caps1_output\")\n",
        "caps1_output.shape"
      ],
      "execution_count": 16,
      "outputs": [
        {
          "output_type": "stream",
          "text": [
            "WARNING:tensorflow:From <ipython-input-15-8037c6cbfef1>:4: calling reduce_sum_v1 (from tensorflow.python.ops.math_ops) with keep_dims is deprecated and will be removed in a future version.\n",
            "Instructions for updating:\n",
            "keep_dims is deprecated, use keepdims instead\n"
          ],
          "name": "stdout"
        },
        {
          "output_type": "execute_result",
          "data": {
            "text/plain": [
              "TensorShape([Dimension(None), Dimension(1152), Dimension(8)])"
            ]
          },
          "metadata": {
            "tags": []
          },
          "execution_count": 16
        }
      ]
    },
    {
      "cell_type": "markdown",
      "metadata": {
        "id": "f03rbSuqu1SE",
        "colab_type": "text"
      },
      "source": [
        "Great! We have the output of the first capsule layer. It wasn't too hard, was it? However, computing the next layer is where the fun really begins."
      ]
    },
    {
      "cell_type": "markdown",
      "metadata": {
        "id": "G3_k-OL-u1SE",
        "colab_type": "text"
      },
      "source": [
        "# Digit Capsules"
      ]
    },
    {
      "cell_type": "markdown",
      "metadata": {
        "id": "r0wMz_l2u1SF",
        "colab_type": "text"
      },
      "source": [
        "To compute the output of the digit capsules, we must first compute the predicted output vectors (one for each primary / digit capsule pair). Then we can run the routing by agreement algorithm."
      ]
    },
    {
      "cell_type": "markdown",
      "metadata": {
        "id": "jK1yFoBbu1SG",
        "colab_type": "text"
      },
      "source": [
        "## Compute the Predicted Output Vectors"
      ]
    },
    {
      "cell_type": "markdown",
      "metadata": {
        "id": "g-ouGvcju1SH",
        "colab_type": "text"
      },
      "source": [
        "The digit capsule layer contains 10 capsules (one for each digit) of 16 dimensions each:"
      ]
    },
    {
      "cell_type": "code",
      "metadata": {
        "id": "oDSz_R7lu1SH",
        "colab_type": "code",
        "colab": {}
      },
      "source": [
        "caps2_n_caps = 10\n",
        "caps2_n_dims = 16"
      ],
      "execution_count": 0,
      "outputs": []
    },
    {
      "cell_type": "markdown",
      "metadata": {
        "id": "eSFG0Antu1SO",
        "colab_type": "text"
      },
      "source": [
        "For each capsule $i$ in the first layer, we want to predict the output of every capsule $j$ in the second layer. For this, we will need a transformation matrix $\\mathbf{W}_{i,j}$ (one for each pair of capsules ($i$, $j$)), then we can compute the predicted output $\\hat{\\mathbf{u}}_{j|i} = \\mathbf{W}_{i,j} \\, \\mathbf{u}_i$ (equation (2)-right in the paper). Since we want to transform an 8D vector into a 16D vector, each transformation matrix $\\mathbf{W}_{i,j}$ must have a shape of (16, 8)."
      ]
    },
    {
      "cell_type": "markdown",
      "metadata": {
        "id": "Mw9IR7wNu1SP",
        "colab_type": "text"
      },
      "source": [
        "To compute $\\hat{\\mathbf{u}}_{j|i}$ for every pair of capsules ($i$, $j$), we will use a nice feature of the `tf.matmul()` function: you probably know that it lets you multiply two matrices, but you may not know that it also lets you multiply higher dimensional arrays. It treats the arrays as arrays of matrices, and it performs itemwise matrix multiplication. For example, suppose you have two 4D arrays, each containing a 2×3 grid of matrices. The first contains matrices $\\mathbf{A}, \\mathbf{B}, \\mathbf{C}, \\mathbf{D}, \\mathbf{E}, \\mathbf{F}$ and the second contains matrices $\\mathbf{G}, \\mathbf{H}, \\mathbf{I}, \\mathbf{J}, \\mathbf{K}, \\mathbf{L}$. If you multiply these two 4D arrays using the `tf.matmul()` function, this is what you get:\n",
        "\n",
        "$\n",
        "\\pmatrix{\n",
        "\\mathbf{A} & \\mathbf{B} & \\mathbf{C} \\\\\n",
        "\\mathbf{D} & \\mathbf{E} & \\mathbf{F}\n",
        "} \\times\n",
        "\\pmatrix{\n",
        "\\mathbf{G} & \\mathbf{H} & \\mathbf{I} \\\\\n",
        "\\mathbf{J} & \\mathbf{K} & \\mathbf{L}\n",
        "} = \\pmatrix{\n",
        "\\mathbf{AG} & \\mathbf{BH} & \\mathbf{CI} \\\\\n",
        "\\mathbf{DJ} & \\mathbf{EK} & \\mathbf{FL}\n",
        "}\n",
        "$"
      ]
    },
    {
      "cell_type": "markdown",
      "metadata": {
        "id": "qR8ByMe3u1SQ",
        "colab_type": "text"
      },
      "source": [
        "We can apply this function to compute $\\hat{\\mathbf{u}}_{j|i}$ for every pair of capsules ($i$, $j$) like this (recall that there are 6×6×32=1152 capsules in the first layer, and 10 in the second layer):\n",
        "\n",
        "$\n",
        "\\pmatrix{\n",
        "  \\mathbf{W}_{1,1} & \\mathbf{W}_{1,2} & \\cdots & \\mathbf{W}_{1,10} \\\\\n",
        "  \\mathbf{W}_{2,1} & \\mathbf{W}_{2,2} & \\cdots & \\mathbf{W}_{2,10} \\\\\n",
        "  \\vdots & \\vdots & \\ddots & \\vdots \\\\\n",
        "  \\mathbf{W}_{1152,1} & \\mathbf{W}_{1152,2} & \\cdots & \\mathbf{W}_{1152,10}\n",
        "} \\times\n",
        "\\pmatrix{\n",
        "  \\mathbf{u}_1 & \\mathbf{u}_1 & \\cdots & \\mathbf{u}_1 \\\\\n",
        "  \\mathbf{u}_2 & \\mathbf{u}_2 & \\cdots & \\mathbf{u}_2 \\\\\n",
        "  \\vdots & \\vdots & \\ddots & \\vdots \\\\\n",
        "  \\mathbf{u}_{1152} & \\mathbf{u}_{1152} & \\cdots & \\mathbf{u}_{1152}\n",
        "}\n",
        "=\n",
        "\\pmatrix{\n",
        "\\hat{\\mathbf{u}}_{1|1} & \\hat{\\mathbf{u}}_{2|1} & \\cdots & \\hat{\\mathbf{u}}_{10|1} \\\\\n",
        "\\hat{\\mathbf{u}}_{1|2} & \\hat{\\mathbf{u}}_{2|2} & \\cdots & \\hat{\\mathbf{u}}_{10|2} \\\\\n",
        "\\vdots & \\vdots & \\ddots & \\vdots \\\\\n",
        "\\hat{\\mathbf{u}}_{1|1152} & \\hat{\\mathbf{u}}_{2|1152} & \\cdots & \\hat{\\mathbf{u}}_{10|1152}\n",
        "}\n",
        "$\n"
      ]
    },
    {
      "cell_type": "markdown",
      "metadata": {
        "id": "tmHXNxLOu1SQ",
        "colab_type": "text"
      },
      "source": [
        "The shape of the first array is (1152, 10, 16, 8), and the shape of the second array is (1152, 10, 8, 1). Note that the second array must contain 10 identical copies of the vectors $\\mathbf{u}_1$ to $\\mathbf{u}_{1152}$. To create this array, we will use the handy `tf.tile()` function, which lets you create an array containing many copies of a base array, tiled in any way you want."
      ]
    },
    {
      "cell_type": "markdown",
      "metadata": {
        "id": "J3b93cMnu1SR",
        "colab_type": "text"
      },
      "source": [
        "Oh, wait a second! We forgot one dimension: _batch size_. Say we feed 50 images to the capsule network, it will make predictions for these 50 images simultaneously. So the shape of the first array must be (50, 1152, 10, 16, 8), and the shape of the second array must be (50, 1152, 10, 8, 1). The first layer capsules actually already output predictions for all 50 images, so the second array will be fine, but for the first array, we will need to use `tf.tile()` to have 50 copies of the transformation matrices."
      ]
    },
    {
      "cell_type": "markdown",
      "metadata": {
        "id": "i3jIyFmDu1SS",
        "colab_type": "text"
      },
      "source": [
        "Okay, let's start by creating a trainable variable of shape (1, 1152, 10, 16, 8) that will hold all the transformation matrices. The first dimension of size 1 will make this array easy to tile. We initialize this variable randomly using a normal distribution with a standard deviation to 0.1."
      ]
    },
    {
      "cell_type": "code",
      "metadata": {
        "id": "O_9cLOyUu1ST",
        "colab_type": "code",
        "outputId": "79abc82b-d051-4e46-d41b-ee6b440009b7",
        "colab": {
          "base_uri": "https://localhost:8080/",
          "height": 0
        }
      },
      "source": [
        "init_sigma = 0.1\n",
        "\n",
        "W_init = tf.random_normal(\n",
        "    shape=(1, caps1_n_caps, caps2_n_caps, caps2_n_dims, caps1_n_dims),\n",
        "    stddev=init_sigma, dtype=tf.float32, name=\"W_init\")\n",
        "W = tf.Variable(W_init, name=\"W\") \n",
        "print(W.shape)"
      ],
      "execution_count": 18,
      "outputs": [
        {
          "output_type": "stream",
          "text": [
            "(1, 1152, 10, 16, 8)\n"
          ],
          "name": "stdout"
        }
      ]
    },
    {
      "cell_type": "markdown",
      "metadata": {
        "id": "xVJkNLxhu1SW",
        "colab_type": "text"
      },
      "source": [
        "Now we can create the first array by repeating `W` once per instance:"
      ]
    },
    {
      "cell_type": "code",
      "metadata": {
        "id": "KTchmjGHu1SX",
        "colab_type": "code",
        "outputId": "62e0fa7a-b5d7-4cf6-8401-07a138b90d7a",
        "colab": {
          "base_uri": "https://localhost:8080/",
          "height": 0
        }
      },
      "source": [
        "batch_size = tf.shape(X)[0]\n",
        "W_tiled = tf.tile(W, [batch_size, 1, 1, 1, 1], name=\"W_tiled\")\n",
        "print(W_tiled.shape)"
      ],
      "execution_count": 19,
      "outputs": [
        {
          "output_type": "stream",
          "text": [
            "(?, 1152, 10, 16, 8)\n"
          ],
          "name": "stdout"
        }
      ]
    },
    {
      "cell_type": "markdown",
      "metadata": {
        "id": "Sh2ILc9Ou1Sb",
        "colab_type": "text"
      },
      "source": [
        "That's it! On to the second array, now. As discussed earlier, we need to create an array of shape (_batch size_, 1152, 10, 8, 1), containing the output of the first layer capsules, repeated 10 times (once per digit, along the third dimension, which is axis=2). The `caps1_output` array has a shape of (_batch size_, 1152, 8), so we first need to expand it twice, to get an array of shape (_batch size_, 1152, 1, 8, 1), then we can repeat it 10 times along the third dimension:"
      ]
    },
    {
      "cell_type": "code",
      "metadata": {
        "id": "OStX6V4zu1Sc",
        "colab_type": "code",
        "colab": {}
      },
      "source": [
        "caps1_output_expanded = tf.expand_dims(caps1_output, -1,\n",
        "                                       name=\"caps1_output_expanded\")\n",
        "caps1_output_tile = tf.expand_dims(caps1_output_expanded, 2,\n",
        "                                   name=\"caps1_output_tile\")\n",
        "caps1_output_tiled = tf.tile(caps1_output_tile, [1, 1, caps2_n_caps, 1, 1],\n",
        "                             name=\"caps1_output_tiled\")"
      ],
      "execution_count": 0,
      "outputs": []
    },
    {
      "cell_type": "markdown",
      "metadata": {
        "id": "kSqlond-u1Sf",
        "colab_type": "text"
      },
      "source": [
        "Let's check the shape of the first array:"
      ]
    },
    {
      "cell_type": "code",
      "metadata": {
        "id": "yAWmFctXu1Sg",
        "colab_type": "code",
        "outputId": "2cd0df27-0961-4b21-f254-ad7fac2e8df7",
        "colab": {
          "base_uri": "https://localhost:8080/",
          "height": 0
        }
      },
      "source": [
        "W_tiled"
      ],
      "execution_count": 21,
      "outputs": [
        {
          "output_type": "execute_result",
          "data": {
            "text/plain": [
              "<tf.Tensor 'W_tiled:0' shape=(?, 1152, 10, 16, 8) dtype=float32>"
            ]
          },
          "metadata": {
            "tags": []
          },
          "execution_count": 21
        }
      ]
    },
    {
      "cell_type": "markdown",
      "metadata": {
        "id": "_ZCbCSXbu1Sk",
        "colab_type": "text"
      },
      "source": [
        "Good, and now the second:"
      ]
    },
    {
      "cell_type": "code",
      "metadata": {
        "id": "SnXJf2_Qu1Sl",
        "colab_type": "code",
        "outputId": "9ada6b2c-2e37-4900-bf17-84cd70242420",
        "colab": {
          "base_uri": "https://localhost:8080/",
          "height": 0
        }
      },
      "source": [
        "caps1_output_tiled"
      ],
      "execution_count": 22,
      "outputs": [
        {
          "output_type": "execute_result",
          "data": {
            "text/plain": [
              "<tf.Tensor 'caps1_output_tiled:0' shape=(?, 1152, 10, 8, 1) dtype=float32>"
            ]
          },
          "metadata": {
            "tags": []
          },
          "execution_count": 22
        }
      ]
    },
    {
      "cell_type": "markdown",
      "metadata": {
        "id": "7M4hghLWu1Sp",
        "colab_type": "text"
      },
      "source": [
        "Yes! Now, to get all the predicted output vectors $\\hat{\\mathbf{u}}_{j|i}$, we just need to multiply these two arrays using `tf.matmul()`, as explained earlier: "
      ]
    },
    {
      "cell_type": "code",
      "metadata": {
        "id": "5uw7DHbnu1Sq",
        "colab_type": "code",
        "colab": {}
      },
      "source": [
        "caps2_predicted = tf.matmul(W_tiled, caps1_output_tiled,\n",
        "                            name=\"caps2_predicted\")"
      ],
      "execution_count": 0,
      "outputs": []
    },
    {
      "cell_type": "markdown",
      "metadata": {
        "id": "xKOahgreu1St",
        "colab_type": "text"
      },
      "source": [
        "Let's check the shape:"
      ]
    },
    {
      "cell_type": "code",
      "metadata": {
        "id": "TKL8Hwvdu1Su",
        "colab_type": "code",
        "outputId": "bf68a515-33b0-49a1-86bf-c7fd4ffbf110",
        "colab": {
          "base_uri": "https://localhost:8080/",
          "height": 0
        }
      },
      "source": [
        "caps2_predicted"
      ],
      "execution_count": 24,
      "outputs": [
        {
          "output_type": "execute_result",
          "data": {
            "text/plain": [
              "<tf.Tensor 'caps2_predicted:0' shape=(?, 1152, 10, 16, 1) dtype=float32>"
            ]
          },
          "metadata": {
            "tags": []
          },
          "execution_count": 24
        }
      ]
    },
    {
      "cell_type": "markdown",
      "metadata": {
        "id": "C-LtQSrGu1Sx",
        "colab_type": "text"
      },
      "source": [
        "Perfect, for each instance in the batch (we don't know the batch size yet, hence the \"?\") and for each pair of first and second layer capsules (1152×10) we have a 16D predicted output column vector (16×1). We're ready to apply the routing by agreement algorithm!"
      ]
    },
    {
      "cell_type": "markdown",
      "metadata": {
        "id": "oiZgs_QJu1Sy",
        "colab_type": "text"
      },
      "source": [
        "## Routing by agreement"
      ]
    },
    {
      "cell_type": "markdown",
      "metadata": {
        "id": "OTi2oibcu1Sz",
        "colab_type": "text"
      },
      "source": [
        "First let's initialize the raw routing weights $b_{i,j}$ to zero:"
      ]
    },
    {
      "cell_type": "code",
      "metadata": {
        "id": "sHpVwBu8u1S0",
        "colab_type": "code",
        "outputId": "eac43ccf-a0e4-41aa-bc83-28940a07b852",
        "colab": {
          "base_uri": "https://localhost:8080/",
          "height": 0
        }
      },
      "source": [
        "raw_weights = tf.zeros([batch_size, caps1_n_caps, caps2_n_caps, 1, 1],\n",
        "                       dtype=np.float32, name=\"raw_weights\")\n",
        "print(raw_weights.shape)"
      ],
      "execution_count": 25,
      "outputs": [
        {
          "output_type": "stream",
          "text": [
            "(?, 1152, 10, 1, 1)\n"
          ],
          "name": "stdout"
        }
      ]
    },
    {
      "cell_type": "markdown",
      "metadata": {
        "id": "xFiWhL0xu1S3",
        "colab_type": "text"
      },
      "source": [
        "We will see why we need the last two dimensions of size 1 in a minute."
      ]
    },
    {
      "cell_type": "markdown",
      "metadata": {
        "id": "rHGvhdKEu1S4",
        "colab_type": "text"
      },
      "source": [
        "### Round 1"
      ]
    },
    {
      "cell_type": "markdown",
      "metadata": {
        "id": "Oqz4qsLNu1S5",
        "colab_type": "text"
      },
      "source": [
        "First, let's apply the softmax function to compute the routing weights, $\\mathbf{c}_{i} = \\operatorname{softmax}(\\mathbf{b}_i)$ (equation (3) in the paper):"
      ]
    },
    {
      "cell_type": "code",
      "metadata": {
        "id": "1lRSmRO0u1S6",
        "colab_type": "code",
        "outputId": "c84d7224-54ba-40c0-f6ea-a898ce95658b",
        "colab": {
          "base_uri": "https://localhost:8080/",
          "height": 0
        }
      },
      "source": [
        "routing_weights = tf.nn.softmax(raw_weights, dim=2, name=\"routing_weights\")\n",
        "print(routing_weights.shape)\n",
        "print(routing_weights)"
      ],
      "execution_count": 26,
      "outputs": [
        {
          "output_type": "stream",
          "text": [
            "WARNING:tensorflow:From <ipython-input-26-c2fbf0cfd2fc>:1: calling softmax (from tensorflow.python.ops.nn_ops) with dim is deprecated and will be removed in a future version.\n",
            "Instructions for updating:\n",
            "dim is deprecated, use axis instead\n",
            "(?, 1152, 10, 1, 1)\n",
            "Tensor(\"routing_weights:0\", shape=(?, 1152, 10, 1, 1), dtype=float32)\n"
          ],
          "name": "stdout"
        }
      ]
    },
    {
      "cell_type": "markdown",
      "metadata": {
        "id": "4bCqF_aZu1S-",
        "colab_type": "text"
      },
      "source": [
        "Now let's compute the weighted sum of all the predicted output vectors for each second-layer capsule, $\\mathbf{s}_j = \\sum\\limits_{i}{c_{i,j}\\hat{\\mathbf{u}}_{j|i}}$ (equation (2)-left in the paper):"
      ]
    },
    {
      "cell_type": "code",
      "metadata": {
        "id": "ka5YWAH-u1S_",
        "colab_type": "code",
        "outputId": "00cd0874-b6a6-401a-d759-ed4c63b52149",
        "colab": {
          "base_uri": "https://localhost:8080/",
          "height": 0
        }
      },
      "source": [
        "weighted_predictions = tf.multiply(routing_weights, caps2_predicted,\n",
        "                                   name=\"weighted_predictions\")\n",
        "print(weighted_predictions)\n",
        "weighted_sum = tf.reduce_sum(weighted_predictions, axis=1, keep_dims=True,\n",
        "                             name=\"weighted_sum\")\n",
        "print(weighted_sum.shape)"
      ],
      "execution_count": 27,
      "outputs": [
        {
          "output_type": "stream",
          "text": [
            "Tensor(\"weighted_predictions:0\", shape=(?, 1152, 10, 16, 1), dtype=float32)\n",
            "(?, 1, 10, 16, 1)\n"
          ],
          "name": "stdout"
        }
      ]
    },
    {
      "cell_type": "markdown",
      "metadata": {
        "id": "7pCzYneku1TE",
        "colab_type": "text"
      },
      "source": [
        "There are a couple important details to note here:\n",
        "* To perform elementwise matrix multiplication (also called the Hadamard product, noted $\\circ$), we use the `tf.multiply()` function. It requires `routing_weights` and `caps2_predicted` to have the same rank, which is why we added two extra dimensions of size 1 to `routing_weights`, earlier.\n",
        "* The shape of `routing_weights` is (_batch size_, 1152, 10, 1, 1) while the shape of `caps2_predicted` is (_batch size_, 1152, 10, 16, 1).  Since they don't match on the fourth dimension (1 _vs_ 16), `tf.multiply()` automatically _broadcasts_ the `routing_weights` 16 times along that dimension. If you are not familiar with broadcasting, a simple example might help:\n",
        "\n",
        "  $ \\pmatrix{1 & 2 & 3 \\\\ 4 & 5 & 6} \\circ \\pmatrix{10 & 100 & 1000} = \\pmatrix{1 & 2 & 3 \\\\ 4 & 5 & 6} \\circ \\pmatrix{10 & 100 & 1000 \\\\ 10 & 100 & 1000} = \\pmatrix{10 & 200 & 3000 \\\\ 40 & 500 & 6000} $"
      ]
    },
    {
      "cell_type": "markdown",
      "metadata": {
        "id": "whdj8IOXu1TF",
        "colab_type": "text"
      },
      "source": [
        "And finally, let's apply the squash function to get the outputs of the second layer capsules at the end of the first iteration of the routing by agreement algorithm, $\\mathbf{v}_j = \\operatorname{squash}(\\mathbf{s}_j)$ :"
      ]
    },
    {
      "cell_type": "code",
      "metadata": {
        "id": "giiMzHGnu1TF",
        "colab_type": "code",
        "colab": {}
      },
      "source": [
        "caps2_output_round_1 = squash(weighted_sum, axis=-2,\n",
        "                              name=\"caps2_output_round_1\")"
      ],
      "execution_count": 0,
      "outputs": []
    },
    {
      "cell_type": "code",
      "metadata": {
        "id": "v7whD7Bwu1TO",
        "colab_type": "code",
        "outputId": "8dbb203c-4f89-4a70-9064-354fce924534",
        "colab": {
          "base_uri": "https://localhost:8080/",
          "height": 0
        }
      },
      "source": [
        "caps2_output_round_1"
      ],
      "execution_count": 29,
      "outputs": [
        {
          "output_type": "execute_result",
          "data": {
            "text/plain": [
              "<tf.Tensor 'caps2_output_round_1/mul:0' shape=(?, 1, 10, 16, 1) dtype=float32>"
            ]
          },
          "metadata": {
            "tags": []
          },
          "execution_count": 29
        }
      ]
    },
    {
      "cell_type": "markdown",
      "metadata": {
        "id": "_zu5YcDru1TR",
        "colab_type": "text"
      },
      "source": [
        "Good! We have ten 16D output vectors for each instance, as expected."
      ]
    },
    {
      "cell_type": "markdown",
      "metadata": {
        "id": "YG_gjtGnu1TS",
        "colab_type": "text"
      },
      "source": [
        "### Round 2"
      ]
    },
    {
      "cell_type": "markdown",
      "metadata": {
        "id": "a_ZR_0q_u1TS",
        "colab_type": "text"
      },
      "source": [
        "First, let's measure how close each predicted vector $\\hat{\\mathbf{u}}_{j|i}$ is to the actual output vector $\\mathbf{v}_j$ by computing their scalar product $\\hat{\\mathbf{u}}_{j|i} \\cdot \\mathbf{v}_j$."
      ]
    },
    {
      "cell_type": "markdown",
      "metadata": {
        "id": "Rer0r36Bu1TT",
        "colab_type": "text"
      },
      "source": [
        "* Quick math reminder: if $\\vec{a}$ and $\\vec{b}$ are two vectors of equal length, and $\\mathbf{a}$ and $\\mathbf{b}$ are their corresponding column vectors (i.e., matrices with a single column), then $\\mathbf{a}^T \\mathbf{b}$ (i.e., the matrix multiplication of the transpose of $\\mathbf{a}$, and $\\mathbf{b}$) is a 1×1 matrix containing the scalar product of the two vectors $\\vec{a}\\cdot\\vec{b}$. In Machine Learning, we generally represent vectors as column vectors, so when we talk about computing the scalar product $\\hat{\\mathbf{u}}_{j|i} \\cdot \\mathbf{v}_j$, this actually means computing ${\\hat{\\mathbf{u}}_{j|i}}^T \\mathbf{v}_j$."
      ]
    },
    {
      "cell_type": "markdown",
      "metadata": {
        "id": "Q_4O0MtNu1TU",
        "colab_type": "text"
      },
      "source": [
        "Since we need to compute the scalar product $\\hat{\\mathbf{u}}_{j|i} \\cdot \\mathbf{v}_j$ for each instance, and for each pair of first and second level capsules $(i, j)$, we will once again take advantage of the fact that `tf.matmul()` can multiply many matrices simultaneously. This will require playing around with `tf.tile()` to get all dimensions to match (except for the last 2), just like we did earlier. So let's look at the shape of `caps2_predicted`, which holds all the predicted output vectors $\\hat{\\mathbf{u}}_{j|i}$ for each instance and each pair of capsules:"
      ]
    },
    {
      "cell_type": "code",
      "metadata": {
        "id": "Dlre5yHyu1TV",
        "colab_type": "code",
        "outputId": "ce818755-fd1c-4a79-972a-6ed06dd11135",
        "colab": {
          "base_uri": "https://localhost:8080/",
          "height": 0
        }
      },
      "source": [
        "caps2_predicted"
      ],
      "execution_count": 30,
      "outputs": [
        {
          "output_type": "execute_result",
          "data": {
            "text/plain": [
              "<tf.Tensor 'caps2_predicted:0' shape=(?, 1152, 10, 16, 1) dtype=float32>"
            ]
          },
          "metadata": {
            "tags": []
          },
          "execution_count": 30
        }
      ]
    },
    {
      "cell_type": "markdown",
      "metadata": {
        "id": "TeYdL3Wyu1Tb",
        "colab_type": "text"
      },
      "source": [
        "And now let's look at the shape of `caps2_output_round_1`, which holds 10 outputs vectors of 16D each, for each instance:"
      ]
    },
    {
      "cell_type": "code",
      "metadata": {
        "id": "ruo4wre0u1Tc",
        "colab_type": "code",
        "outputId": "3cbf3a07-f600-4689-f841-2cdf73dbc3e9",
        "colab": {
          "base_uri": "https://localhost:8080/",
          "height": 0
        }
      },
      "source": [
        "caps2_output_round_1"
      ],
      "execution_count": 31,
      "outputs": [
        {
          "output_type": "execute_result",
          "data": {
            "text/plain": [
              "<tf.Tensor 'caps2_output_round_1/mul:0' shape=(?, 1, 10, 16, 1) dtype=float32>"
            ]
          },
          "metadata": {
            "tags": []
          },
          "execution_count": 31
        }
      ]
    },
    {
      "cell_type": "markdown",
      "metadata": {
        "id": "AkrFUMm3u1Tf",
        "colab_type": "text"
      },
      "source": [
        "To get these shapes to match, we just need to tile the `caps2_output_round_1` array 1152 times (once per primary capsule) along the second dimension:"
      ]
    },
    {
      "cell_type": "code",
      "metadata": {
        "id": "vfsJ3W8ju1Tg",
        "colab_type": "code",
        "outputId": "3554aa07-7fa3-456c-bc36-72a573fda638",
        "colab": {
          "base_uri": "https://localhost:8080/",
          "height": 0
        }
      },
      "source": [
        "caps2_output_round_1_tiled = tf.tile(\n",
        "    caps2_output_round_1, [1, caps1_n_caps, 1, 1, 1],\n",
        "    name=\"caps2_output_round_1_tiled\")\n",
        "print(caps2_output_round_1_tiled)"
      ],
      "execution_count": 32,
      "outputs": [
        {
          "output_type": "stream",
          "text": [
            "Tensor(\"caps2_output_round_1_tiled:0\", shape=(?, 1152, 10, 16, 1), dtype=float32)\n"
          ],
          "name": "stdout"
        }
      ]
    },
    {
      "cell_type": "markdown",
      "metadata": {
        "id": "cfr_GEcOu1Tj",
        "colab_type": "text"
      },
      "source": [
        "And now we are ready to call `tf.matmul()` (note that we must tell it to transpose the matrices in the first array, to get ${\\hat{\\mathbf{u}}_{j|i}}^T$ instead of $\\hat{\\mathbf{u}}_{j|i}$):"
      ]
    },
    {
      "cell_type": "code",
      "metadata": {
        "id": "nm6cDQZOu1Tj",
        "colab_type": "code",
        "outputId": "78468085-7fcc-42b0-a584-6b627ae15afa",
        "colab": {
          "base_uri": "https://localhost:8080/",
          "height": 0
        }
      },
      "source": [
        "agreement = tf.matmul(caps2_predicted, caps2_output_round_1_tiled,\n",
        "                      transpose_a=True, name=\"agreement\")\n",
        "print(agreement)"
      ],
      "execution_count": 33,
      "outputs": [
        {
          "output_type": "stream",
          "text": [
            "Tensor(\"agreement:0\", shape=(?, 1152, 10, 1, 1), dtype=float32)\n"
          ],
          "name": "stdout"
        }
      ]
    },
    {
      "cell_type": "markdown",
      "metadata": {
        "id": "-coaN9cbu1Tm",
        "colab_type": "text"
      },
      "source": [
        "We can now update the raw routing weights $b_{i,j}$ by simply adding the scalar product $\\hat{\\mathbf{u}}_{j|i} \\cdot \\mathbf{v}_j$ we just computed: $b_{i,j} \\gets b_{i,j} + \\hat{\\mathbf{u}}_{j|i} \\cdot \\mathbf{v}_j$ (see Procedure 1, step 7, in the paper)."
      ]
    },
    {
      "cell_type": "code",
      "metadata": {
        "id": "1EXvxNKOu1Tn",
        "colab_type": "code",
        "colab": {}
      },
      "source": [
        "raw_weights_round_2 = tf.add(raw_weights, agreement,\n",
        "                             name=\"raw_weights_round_2\")"
      ],
      "execution_count": 0,
      "outputs": []
    },
    {
      "cell_type": "markdown",
      "metadata": {
        "id": "NaRVe6DRu1Ts",
        "colab_type": "text"
      },
      "source": [
        "The rest of round 2 is the same as in round 1:"
      ]
    },
    {
      "cell_type": "code",
      "metadata": {
        "id": "9URdPifiu1Tt",
        "colab_type": "code",
        "colab": {}
      },
      "source": [
        "routing_weights_round_2 = tf.nn.softmax(raw_weights_round_2,\n",
        "                                        dim=2,\n",
        "                                        name=\"routing_weights_round_2\")\n",
        "weighted_predictions_round_2 = tf.multiply(routing_weights_round_2,\n",
        "                                           caps2_predicted,\n",
        "                                           name=\"weighted_predictions_round_2\")\n",
        "weighted_sum_round_2 = tf.reduce_sum(weighted_predictions_round_2,\n",
        "                                     axis=1, keep_dims=True,\n",
        "                                     name=\"weighted_sum_round_2\")\n",
        "caps2_output_round_2 = squash(weighted_sum_round_2,\n",
        "                              axis=-2,\n",
        "                              name=\"caps2_output_round_2\")"
      ],
      "execution_count": 0,
      "outputs": []
    },
    {
      "cell_type": "markdown",
      "metadata": {
        "id": "VN0xqoJiu1Tw",
        "colab_type": "text"
      },
      "source": [
        "We could go on for a few more rounds, by repeating exactly the same steps as in round 2, but to keep things short, we will stop here:"
      ]
    },
    {
      "cell_type": "code",
      "metadata": {
        "id": "dKpDXl1bu1Tw",
        "colab_type": "code",
        "outputId": "aa00e9ba-ee16-4749-dff9-8739e107c436",
        "colab": {
          "base_uri": "https://localhost:8080/",
          "height": 0
        }
      },
      "source": [
        "caps2_output = caps2_output_round_2\n",
        "print(caps2_output)"
      ],
      "execution_count": 36,
      "outputs": [
        {
          "output_type": "stream",
          "text": [
            "Tensor(\"caps2_output_round_2/mul:0\", shape=(?, 1, 10, 16, 1), dtype=float32)\n"
          ],
          "name": "stdout"
        }
      ]
    },
    {
      "cell_type": "markdown",
      "metadata": {
        "id": "DXgI5Sidu1T0",
        "colab_type": "text"
      },
      "source": [
        "### Static or Dynamic Loop?"
      ]
    },
    {
      "cell_type": "markdown",
      "metadata": {
        "id": "YhQfJy5Ou1T1",
        "colab_type": "text"
      },
      "source": [
        "In the code above, we created different operations in the TensorFlow graph for each round of the routing by agreement algorithm. In other words, it's a static loop.\n",
        "\n",
        "Sure, instead of copy/pasting the code several times, we could have written a `for` loop in Python, but this would not change the fact that the graph would end up containing different operations for each routing iteration. It's actually okay since we generally want less than 5 routing iterations, so the graph won't grow too big.\n",
        "\n",
        "However, you may prefer to implement the routing loop within the TensorFlow graph itself rather than using a Python `for` loop. To do this, you would need to use TensorFlow's `tf.while_loop()` function. This way, all routing iterations would reuse the same operations in the graph, it would be a dynamic loop.\n",
        "\n",
        "For example, here is how to build a small loop that computes the sum of squares from 1 to 100:"
      ]
    },
    {
      "cell_type": "code",
      "metadata": {
        "id": "5Lq8D3jOu1T1",
        "colab_type": "code",
        "outputId": "45df299e-62f2-42b6-f1cb-d2baf54a7c01",
        "colab": {
          "base_uri": "https://localhost:8080/",
          "height": 0
        }
      },
      "source": [
        "def condition(input, counter):\n",
        "    return tf.less(counter, 100)\n",
        "\n",
        "def loop_body(input, counter):\n",
        "    output = tf.add(input, tf.square(counter))\n",
        "    return output, tf.add(counter, 1)\n",
        "\n",
        "with tf.name_scope(\"compute_sum_of_squares\"):\n",
        "    counter = tf.constant(1)\n",
        "    sum_of_squares = tf.constant(0)\n",
        "\n",
        "    result = tf.while_loop(condition, loop_body, [sum_of_squares, counter])\n",
        "    \n",
        "\n",
        "with tf.Session() as sess:\n",
        "    print(sess.run(result))"
      ],
      "execution_count": 37,
      "outputs": [
        {
          "output_type": "stream",
          "text": [
            "(328350, 100)\n"
          ],
          "name": "stdout"
        }
      ]
    },
    {
      "cell_type": "markdown",
      "metadata": {
        "id": "8RB_tC_hu1T4",
        "colab_type": "text"
      },
      "source": [
        "As you can see, the `tf.while_loop()` function expects the loop condition and body to be provided _via_ two functions. These functions will be called only once by TensorFlow, during the graph construction phase, _not_ while executing the graph. The `tf.while_loop()` function stitches together the graph fragments created by `condition()` and `loop_body()` with some additional operations to create the loop.\n",
        "\n",
        "Also note that during training, TensorFlow will automagically handle backpropogation through the loop, so you don't need to worry about that."
      ]
    },
    {
      "cell_type": "markdown",
      "metadata": {
        "id": "XglA3Bm3u1T5",
        "colab_type": "text"
      },
      "source": [
        "Of course, we could have used this one-liner instead! ;-)"
      ]
    },
    {
      "cell_type": "code",
      "metadata": {
        "id": "-PFqx4n-u1T6",
        "colab_type": "code",
        "outputId": "1877281a-2e02-4114-804f-e2ecc2ea7bbf",
        "colab": {
          "base_uri": "https://localhost:8080/",
          "height": 0
        }
      },
      "source": [
        "sum([i**2 for i in range(1, 100 + 1)])"
      ],
      "execution_count": 38,
      "outputs": [
        {
          "output_type": "execute_result",
          "data": {
            "text/plain": [
              "338350"
            ]
          },
          "metadata": {
            "tags": []
          },
          "execution_count": 38
        }
      ]
    },
    {
      "cell_type": "markdown",
      "metadata": {
        "id": "ZIGx97RYu1T_",
        "colab_type": "text"
      },
      "source": [
        "Joke aside, apart from reducing the graph size, using a dynamic loop instead of a static loop can help reduce how much GPU RAM you use (if you are using a GPU). Indeed, if you set `swap_memory=True` when calling the `tf.while_loop()` function, TensorFlow will automatically check GPU RAM usage at each loop iteration, and it will take care of swapping memory between the GPU and the CPU when needed. Since CPU memory is much cheaper and abundant than GPU RAM, this can really make a big difference."
      ]
    },
    {
      "cell_type": "markdown",
      "metadata": {
        "id": "6mg3Q-xuu1UA",
        "colab_type": "text"
      },
      "source": [
        "# Estimated Class Probabilities (Length)"
      ]
    },
    {
      "cell_type": "markdown",
      "metadata": {
        "id": "vtz_oGI0u1UA",
        "colab_type": "text"
      },
      "source": [
        "The lengths of the output vectors represent the class probabilities, so we could just use `tf.norm()` to compute them, but as we saw when discussing the squash function, it would be risky, so instead let's create our own `safe_norm()` function:"
      ]
    },
    {
      "cell_type": "code",
      "metadata": {
        "id": "VH9s1f5su1UB",
        "colab_type": "code",
        "colab": {}
      },
      "source": [
        "def safe_norm(s, axis=-1, epsilon=1e-7, keep_dims=False, name=None):\n",
        "    with tf.name_scope(name, default_name=\"safe_norm\"):\n",
        "        squared_norm = tf.reduce_sum(tf.square(s), axis=axis,\n",
        "                                     keep_dims=keep_dims)\n",
        "        return tf.sqrt(squared_norm + epsilon)"
      ],
      "execution_count": 0,
      "outputs": []
    },
    {
      "cell_type": "code",
      "metadata": {
        "id": "6eEZTty0u1UH",
        "colab_type": "code",
        "colab": {}
      },
      "source": [
        "y_proba = safe_norm(caps2_output, axis=-2, name=\"y_proba\")"
      ],
      "execution_count": 0,
      "outputs": []
    },
    {
      "cell_type": "markdown",
      "metadata": {
        "id": "QMtL3owuu1UJ",
        "colab_type": "text"
      },
      "source": [
        "To predict the class of each instance, we can just select the one with the highest estimated probability. To do this, let's start by finding its index using `tf.argmax()`:"
      ]
    },
    {
      "cell_type": "code",
      "metadata": {
        "id": "0aPo9JnTu1UJ",
        "colab_type": "code",
        "colab": {}
      },
      "source": [
        "y_proba_argmax = tf.argmax(y_proba, axis=2, name=\"y_proba\")"
      ],
      "execution_count": 0,
      "outputs": []
    },
    {
      "cell_type": "markdown",
      "metadata": {
        "id": "MuzWqh5su1UQ",
        "colab_type": "text"
      },
      "source": [
        "Let's look at the shape of `y_proba_argmax`:"
      ]
    },
    {
      "cell_type": "code",
      "metadata": {
        "id": "O6RNu9Dou1UR",
        "colab_type": "code",
        "outputId": "e0a21196-92b8-4d11-8644-33a2c85ae8fb",
        "colab": {
          "base_uri": "https://localhost:8080/",
          "height": 0
        }
      },
      "source": [
        "y_proba_argmax"
      ],
      "execution_count": 42,
      "outputs": [
        {
          "output_type": "execute_result",
          "data": {
            "text/plain": [
              "<tf.Tensor 'y_proba_1:0' shape=(?, 1, 1) dtype=int64>"
            ]
          },
          "metadata": {
            "tags": []
          },
          "execution_count": 42
        }
      ]
    },
    {
      "cell_type": "markdown",
      "metadata": {
        "id": "jiIeJuOAu1UX",
        "colab_type": "text"
      },
      "source": [
        "That's what we wanted: for each instance, we now have the index of the longest output vector. Let's get rid of the last two dimensions by using `tf.squeeze()` which removes dimensions of size 1. This gives us the capsule network's predicted class for each instance:"
      ]
    },
    {
      "cell_type": "code",
      "metadata": {
        "id": "yUV-JQ-Ru1UY",
        "colab_type": "code",
        "colab": {}
      },
      "source": [
        "y_pred = tf.squeeze(y_proba_argmax, axis=[1,2], name=\"y_pred\")"
      ],
      "execution_count": 0,
      "outputs": []
    },
    {
      "cell_type": "code",
      "metadata": {
        "id": "t4BgJW-mu1Ub",
        "colab_type": "code",
        "outputId": "579eab7f-9921-42aa-d0e7-6b3eb3915224",
        "colab": {
          "base_uri": "https://localhost:8080/",
          "height": 0
        }
      },
      "source": [
        "y_pred"
      ],
      "execution_count": 44,
      "outputs": [
        {
          "output_type": "execute_result",
          "data": {
            "text/plain": [
              "<tf.Tensor 'y_pred:0' shape=(?,) dtype=int64>"
            ]
          },
          "metadata": {
            "tags": []
          },
          "execution_count": 44
        }
      ]
    },
    {
      "cell_type": "markdown",
      "metadata": {
        "id": "O-lUDJaiu1Uh",
        "colab_type": "text"
      },
      "source": [
        "Okay, we are now ready to define the training operations, starting with the losses."
      ]
    },
    {
      "cell_type": "markdown",
      "metadata": {
        "id": "qs71kiPuu1Ui",
        "colab_type": "text"
      },
      "source": [
        "# Labels"
      ]
    },
    {
      "cell_type": "markdown",
      "metadata": {
        "id": "mI1ItAbmu1Uj",
        "colab_type": "text"
      },
      "source": [
        "First, we will need a placeholder for the labels:"
      ]
    },
    {
      "cell_type": "code",
      "metadata": {
        "id": "5F335n4hu1Uk",
        "colab_type": "code",
        "colab": {}
      },
      "source": [
        "y = tf.placeholder(shape=[None], dtype=tf.int64, name=\"y\")"
      ],
      "execution_count": 0,
      "outputs": []
    },
    {
      "cell_type": "markdown",
      "metadata": {
        "id": "3QTDGgXLu1Ur",
        "colab_type": "text"
      },
      "source": [
        "# Margin loss"
      ]
    },
    {
      "cell_type": "markdown",
      "metadata": {
        "id": "v-sWhwcsu1Us",
        "colab_type": "text"
      },
      "source": [
        "The paper uses a special margin loss to make it possible to detect two or more different digits in each image:\n",
        "\n",
        "$ L_k = T_k \\max(0, m^{+} - \\|\\mathbf{v}_k\\|)^2 + \\lambda (1 - T_k) \\max(0, \\|\\mathbf{v}_k\\| - m^{-})^2$\n",
        "\n",
        "* $T_k$ is equal to 1 if the digit of class $k$ is present, or 0 otherwise.\n",
        "* In the paper, $m^{+} = 0.9$, $m^{-} = 0.1$ and $\\lambda = 0.5$.\n",
        "* Note that there was an error in the video (at 15:47): the max operations are squared, not the norms. Sorry about that."
      ]
    },
    {
      "cell_type": "code",
      "metadata": {
        "id": "zzgC4IKAu1Ut",
        "colab_type": "code",
        "colab": {}
      },
      "source": [
        "m_plus = 0.9\n",
        "m_minus = 0.1\n",
        "lambda_ = 0.5"
      ],
      "execution_count": 0,
      "outputs": []
    },
    {
      "cell_type": "markdown",
      "metadata": {
        "id": "f37AtY-Hu1Uy",
        "colab_type": "text"
      },
      "source": [
        "Since `y` will contain the digit classes, from 0 to 9, to get $T_k$ for every instance and every class, we can just use the `tf.one_hot()` function:"
      ]
    },
    {
      "cell_type": "code",
      "metadata": {
        "id": "b37-2NG9u1Uz",
        "colab_type": "code",
        "colab": {}
      },
      "source": [
        "T = tf.one_hot(y, depth=caps2_n_caps, name=\"T\")"
      ],
      "execution_count": 0,
      "outputs": []
    },
    {
      "cell_type": "markdown",
      "metadata": {
        "id": "AhfU61M7u1U2",
        "colab_type": "text"
      },
      "source": [
        "A small example should make it clear what this does:"
      ]
    },
    {
      "cell_type": "code",
      "metadata": {
        "id": "nb5pmuS7u1U2",
        "colab_type": "code",
        "outputId": "7ee4846d-08d4-4f07-c9d6-d687bda5ce11",
        "colab": {
          "base_uri": "https://localhost:8080/",
          "height": 102
        }
      },
      "source": [
        "with tf.Session():\n",
        "    print(T.eval(feed_dict={y: np.array([0, 1, 2, 3, 9])}))"
      ],
      "execution_count": 48,
      "outputs": [
        {
          "output_type": "stream",
          "text": [
            "[[1. 0. 0. 0. 0. 0. 0. 0. 0. 0.]\n",
            " [0. 1. 0. 0. 0. 0. 0. 0. 0. 0.]\n",
            " [0. 0. 1. 0. 0. 0. 0. 0. 0. 0.]\n",
            " [0. 0. 0. 1. 0. 0. 0. 0. 0. 0.]\n",
            " [0. 0. 0. 0. 0. 0. 0. 0. 0. 1.]]\n"
          ],
          "name": "stdout"
        }
      ]
    },
    {
      "cell_type": "markdown",
      "metadata": {
        "id": "vRFOWU91u1U5",
        "colab_type": "text"
      },
      "source": [
        "Now let's compute the norm of the output vector for each output capsule and each instance. First, let's verify the shape of `caps2_output`:"
      ]
    },
    {
      "cell_type": "code",
      "metadata": {
        "id": "ntt-Zs34u1U5",
        "colab_type": "code",
        "outputId": "7c82f839-e91e-4ca5-8e2b-f53de97f38b9",
        "colab": {
          "base_uri": "https://localhost:8080/",
          "height": 34
        }
      },
      "source": [
        "caps2_output"
      ],
      "execution_count": 49,
      "outputs": [
        {
          "output_type": "execute_result",
          "data": {
            "text/plain": [
              "<tf.Tensor 'caps2_output_round_2/mul:0' shape=(?, 1, 10, 16, 1) dtype=float32>"
            ]
          },
          "metadata": {
            "tags": []
          },
          "execution_count": 49
        }
      ]
    },
    {
      "cell_type": "markdown",
      "metadata": {
        "id": "-W3mlofou1U8",
        "colab_type": "text"
      },
      "source": [
        "The 16D output vectors are in the second to last dimension, so let's use the `safe_norm()` function with `axis=-2`:"
      ]
    },
    {
      "cell_type": "code",
      "metadata": {
        "id": "HX4d1ibku1U8",
        "colab_type": "code",
        "colab": {}
      },
      "source": [
        "caps2_output_norm = safe_norm(caps2_output, axis=-2, keep_dims=True,\n",
        "                              name=\"caps2_output_norm\")"
      ],
      "execution_count": 0,
      "outputs": []
    },
    {
      "cell_type": "markdown",
      "metadata": {
        "id": "RtoHMfcRu1U-",
        "colab_type": "text"
      },
      "source": [
        "Now let's compute $\\max(0, m^{+} - \\|\\mathbf{v}_k\\|)^2$, and reshape the result to get a simple matrix of shape (_batch size_, 10):"
      ]
    },
    {
      "cell_type": "code",
      "metadata": {
        "id": "5yo3q66wu1U_",
        "colab_type": "code",
        "colab": {}
      },
      "source": [
        "present_error_raw = tf.square(tf.maximum(0., m_plus - caps2_output_norm),\n",
        "                              name=\"present_error_raw\")\n",
        "present_error = tf.reshape(present_error_raw, shape=(-1, 10),\n",
        "                           name=\"present_error\")"
      ],
      "execution_count": 0,
      "outputs": []
    },
    {
      "cell_type": "markdown",
      "metadata": {
        "id": "iXWnMWvku1VB",
        "colab_type": "text"
      },
      "source": [
        "Next let's compute $\\max(0, \\|\\mathbf{v}_k\\| - m^{-})^2$ and reshape it:"
      ]
    },
    {
      "cell_type": "code",
      "metadata": {
        "id": "V66Yq9P4u1VC",
        "colab_type": "code",
        "colab": {}
      },
      "source": [
        "absent_error_raw = tf.square(tf.maximum(0., caps2_output_norm - m_minus),\n",
        "                             name=\"absent_error_raw\")\n",
        "absent_error = tf.reshape(absent_error_raw, shape=(-1, 10),\n",
        "                          name=\"absent_error\")"
      ],
      "execution_count": 0,
      "outputs": []
    },
    {
      "cell_type": "markdown",
      "metadata": {
        "id": "_ZSKMc7Lu1VE",
        "colab_type": "text"
      },
      "source": [
        "We are ready to compute the loss for each instance and each digit:"
      ]
    },
    {
      "cell_type": "code",
      "metadata": {
        "id": "ieoXip2qu1VF",
        "colab_type": "code",
        "colab": {}
      },
      "source": [
        "L = tf.add(T * present_error, lambda_ * (1.0 - T) * absent_error,\n",
        "           name=\"L\")"
      ],
      "execution_count": 0,
      "outputs": []
    },
    {
      "cell_type": "markdown",
      "metadata": {
        "id": "WjfRGLhmu1VH",
        "colab_type": "text"
      },
      "source": [
        "Now we can sum the digit losses for each instance ($L_0 + L_1 + \\cdots + L_9$), and compute the mean over all instances. This gives us the final margin loss:"
      ]
    },
    {
      "cell_type": "code",
      "metadata": {
        "id": "FUfqrObQu1VH",
        "colab_type": "code",
        "colab": {}
      },
      "source": [
        "margin_loss = tf.reduce_mean(tf.reduce_sum(L, axis=1), name=\"margin_loss\")"
      ],
      "execution_count": 0,
      "outputs": []
    },
    {
      "cell_type": "markdown",
      "metadata": {
        "id": "a9ztbaGLu1WH",
        "colab_type": "text"
      },
      "source": [
        "## Final Loss"
      ]
    },
    {
      "cell_type": "markdown",
      "metadata": {
        "id": "1OwbDKnTu1WI",
        "colab_type": "text"
      },
      "source": [
        "The final loss is the sum of the margin loss and the reconstruction loss (scaled down by a factor of 0.0005 to ensure the margin loss dominates training):"
      ]
    },
    {
      "cell_type": "markdown",
      "metadata": {
        "id": "G9OoRkLou1WL",
        "colab_type": "text"
      },
      "source": [
        "# Final Touches"
      ]
    },
    {
      "cell_type": "markdown",
      "metadata": {
        "id": "LCGHnI5tu1WL",
        "colab_type": "text"
      },
      "source": [
        "## Accuracy"
      ]
    },
    {
      "cell_type": "markdown",
      "metadata": {
        "id": "Z-65fzsGu1WN",
        "colab_type": "text"
      },
      "source": [
        "To measure our model's accuracy, we need to count the number of instances that are properly classified. For this, we can simply compare `y` and `y_pred`, convert the boolean value to a float32 (0.0 for False, 1.0 for True), and compute the mean over all the instances:"
      ]
    },
    {
      "cell_type": "code",
      "metadata": {
        "id": "h8t7Hbobu1WO",
        "colab_type": "code",
        "colab": {}
      },
      "source": [
        "correct = tf.equal(y, y_pred, name=\"correct\")\n",
        "accuracy = tf.reduce_mean(tf.cast(correct, tf.float32), name=\"accuracy\")"
      ],
      "execution_count": 0,
      "outputs": []
    },
    {
      "cell_type": "markdown",
      "metadata": {
        "id": "7xSCSgbzu1WS",
        "colab_type": "text"
      },
      "source": [
        "## Training Operations"
      ]
    },
    {
      "cell_type": "markdown",
      "metadata": {
        "id": "vYUonMm_u1WS",
        "colab_type": "text"
      },
      "source": [
        "The paper mentions that the authors used the Adam optimizer with TensorFlow's default parameters:"
      ]
    },
    {
      "cell_type": "code",
      "metadata": {
        "id": "ar3D5e-bu1WI",
        "colab_type": "code",
        "colab": {}
      },
      "source": [
        "loss = tf.add(margin_loss, 0, name=\"loss\")"
      ],
      "execution_count": 0,
      "outputs": []
    },
    {
      "cell_type": "code",
      "metadata": {
        "id": "VE4QS9yNu1WT",
        "colab_type": "code",
        "outputId": "9e5454c4-f906-4300-bf44-6763a07c916b",
        "colab": {
          "base_uri": "https://localhost:8080/",
          "height": 88
        }
      },
      "source": [
        "optimizer = tf.train.AdamOptimizer()\n",
        "training_op = optimizer.minimize(loss, name=\"training_op\")"
      ],
      "execution_count": 57,
      "outputs": [
        {
          "output_type": "stream",
          "text": [
            "WARNING:tensorflow:From /usr/local/lib/python3.6/dist-packages/tensorflow_core/python/ops/math_grad.py:1424: where (from tensorflow.python.ops.array_ops) is deprecated and will be removed in a future version.\n",
            "Instructions for updating:\n",
            "Use tf.where in 2.0, which has the same broadcast rule as np.where\n"
          ],
          "name": "stdout"
        }
      ]
    },
    {
      "cell_type": "markdown",
      "metadata": {
        "id": "EZfydyA6u1WV",
        "colab_type": "text"
      },
      "source": [
        "## Init and Saver"
      ]
    },
    {
      "cell_type": "markdown",
      "metadata": {
        "id": "-gYgSlNQu1WV",
        "colab_type": "text"
      },
      "source": [
        "And let's add the usual variable initializer, as well as a `Saver`:"
      ]
    },
    {
      "cell_type": "code",
      "metadata": {
        "id": "49Ywdk2xu1WW",
        "colab_type": "code",
        "colab": {}
      },
      "source": [
        "init = tf.global_variables_initializer()\n",
        "saver = tf.train.Saver()"
      ],
      "execution_count": 0,
      "outputs": []
    },
    {
      "cell_type": "markdown",
      "metadata": {
        "id": "qSZCQtDru1WY",
        "colab_type": "text"
      },
      "source": [
        "And... we're done with the construction phase! Please take a moment to celebrate. :)"
      ]
    },
    {
      "cell_type": "markdown",
      "metadata": {
        "id": "LhgHOplEu1WZ",
        "colab_type": "text"
      },
      "source": [
        "# Training"
      ]
    },
    {
      "cell_type": "markdown",
      "metadata": {
        "id": "F0D86UvDu1Wd",
        "colab_type": "text"
      },
      "source": [
        "Training our capsule network is pretty standard. For simplicity, we won't do any fancy hyperparameter tuning, dropout or anything, we will just run the training operation over and over again, displaying the loss, and at the end of each epoch, measure the accuracy on the validation set, display it, and save the model if the validation loss is the lowest seen found so far (this is a basic way to implement early stopping, without actually stopping). Hopefully the code should be self-explanatory, but here are a few details to note:\n",
        "* if a checkpoint file exists, it will be restored (this makes it possible to interrupt training, then restart it later from the last checkpoint),\n",
        "* we must not forget to feed `mask_with_labels=True` during training,\n",
        "* during testing, we let `mask_with_labels` default to `False` (but we still feed the labels since they are required to compute the accuracy),\n",
        "* the images loaded _via_ `mnist.train.next_batch()` are represented as `float32` arrays of shape \\[784\\], but the input placeholder `X` expects a `float32` array of shape \\[28, 28, 1\\], so we must reshape the images before we feed them to our model,\n",
        "* we evaluate the model's loss and accuracy on the full validation set (5,000 instances). To view progress and support systems that don't have a lot of RAM, the code evaluates the loss and accuracy on one batch at a time, and computes the mean loss and mean accuracy at the end.\n",
        "\n",
        "*Warning*: if you don't have a GPU, training will take a very long time (at least a few hours). With a GPU, it should take just a few minutes per epoch (e.g., 6 minutes on an NVidia GeForce GTX 1080Ti)."
      ]
    },
    {
      "cell_type": "code",
      "metadata": {
        "id": "fZON8dUvu1Wd",
        "colab_type": "code",
        "outputId": "6a48f7d8-d992-4c68-b26a-95b7f4e68137",
        "colab": {
          "base_uri": "https://localhost:8080/",
          "height": 119
        }
      },
      "source": [
        "n_epochs = 10\n",
        "batch_size = 50\n",
        "restore_checkpoint = True\n",
        "\n",
        "n_iterations_per_epoch = mnist.train.num_examples // batch_size\n",
        "n_iterations_validation = mnist.validation.num_examples // batch_size\n",
        "best_loss_val = np.infty\n",
        "checkpoint_path = \"./my_capsule_network\"\n",
        "\n",
        "with tf.Session() as sess:\n",
        "    if restore_checkpoint and tf.train.checkpoint_exists(checkpoint_path):\n",
        "        saver.restore(sess, checkpoint_path)\n",
        "    else:\n",
        "        init.run()\n",
        "\n",
        "    for epoch in range(n_epochs):\n",
        "        for iteration in range(1, n_iterations_per_epoch + 1):\n",
        "            X_batch, y_batch = mnist.train.next_batch(batch_size)\n",
        "            # Run the training operation and measure the loss:\n",
        "            _, loss_train = sess.run(\n",
        "                [training_op, loss],\n",
        "                feed_dict={X: X_batch.reshape([-1, 28, 28, 1]),\n",
        "                           y: y_batch})\n",
        "            print(\"\\rIteration: {}/{} ({:.1f}%)  Loss: {:.5f}\".format(\n",
        "                      iteration, n_iterations_per_epoch,\n",
        "                      iteration * 100 / n_iterations_per_epoch,\n",
        "                      loss_train),\n",
        "                  end=\"\")\n",
        "\n",
        "        # At the end of each epoch,\n",
        "        # measure the validation loss and accuracy:\n",
        "        loss_vals = []\n",
        "        acc_vals = []\n",
        "        for iteration in range(1, n_iterations_validation + 1):\n",
        "            X_batch, y_batch = mnist.validation.next_batch(batch_size)\n",
        "            loss_val, acc_val = sess.run(\n",
        "                    [loss, accuracy],\n",
        "                    feed_dict={X: X_batch.reshape([-1, 28, 28, 1]),\n",
        "                               y: y_batch})\n",
        "            loss_vals.append(loss_val)\n",
        "            acc_vals.append(acc_val)\n",
        "            print(\"\\rEvaluating the model: {}/{} ({:.1f}%)\".format(\n",
        "                      iteration, n_iterations_validation,\n",
        "                      iteration * 100 / n_iterations_validation),\n",
        "                  end=\" \" * 10)\n",
        "        loss_val = np.mean(loss_vals)\n",
        "        acc_val = np.mean(acc_vals)\n",
        "        print(\"\\rEpoch: {}  Val accuracy: {:.4f}%  Loss: {:.6f}{}\".format(\n",
        "            epoch + 1, acc_val * 100, loss_val,\n",
        "            \" (improved)\" if loss_val < best_loss_val else \"\"))\n",
        "\n",
        "        # And save the model if it improved:\n",
        "        if loss_val < best_loss_val:\n",
        "            save_path = saver.save(sess, checkpoint_path)\n",
        "            best_loss_val = loss_val"
      ],
      "execution_count": 0,
      "outputs": [
        {
          "output_type": "stream",
          "text": [
            "Epoch: 1  Val accuracy: 98.8200%  Loss: 0.015040 (improved)\n",
            "Epoch: 2  Val accuracy: 99.1800%  Loss: 0.009933 (improved)\n",
            "Epoch: 3  Val accuracy: 99.3000%  Loss: 0.008756 (improved)\n",
            "Epoch: 4  Val accuracy: 99.3400%  Loss: 0.007298 (improved)\n",
            "Epoch: 5  Val accuracy: 99.2600%  Loss: 0.006985 (improved)\n",
            "Iteration: 406/1100 (36.9%)  Loss: 0.00995"
          ],
          "name": "stdout"
        }
      ]
    },
    {
      "cell_type": "markdown",
      "metadata": {
        "id": "PpvDwCXFu1Wh",
        "colab_type": "text"
      },
      "source": [
        "Training is finished, we reached over 99.4% accuracy on the validation set after just 5 epochs, things are looking good. Now let's evaluate the model on the test set."
      ]
    },
    {
      "cell_type": "markdown",
      "metadata": {
        "id": "92j_JjbUu1Wh",
        "colab_type": "text"
      },
      "source": [
        "# Evaluation"
      ]
    },
    {
      "cell_type": "code",
      "metadata": {
        "id": "tECuUvUhu1Wh",
        "colab_type": "code",
        "colab": {}
      },
      "source": [
        "n_iterations_test = mnist.test.num_examples // batch_size\n",
        "\n",
        "with tf.Session() as sess:\n",
        "    saver.restore(sess, checkpoint_path)\n",
        "\n",
        "    loss_tests = []\n",
        "    acc_tests = []\n",
        "    for iteration in range(1, n_iterations_test + 1):\n",
        "        X_batch, y_batch = mnist.test.next_batch(batch_size)\n",
        "        loss_test, acc_test = sess.run(\n",
        "                [loss, accuracy],\n",
        "                feed_dict={X: X_batch.reshape([-1, 28, 28, 1]),\n",
        "                           y: y_batch})\n",
        "        loss_tests.append(loss_test)\n",
        "        acc_tests.append(acc_test)\n",
        "        print(\"\\rEvaluating the model: {}/{} ({:.1f}%)\".format(\n",
        "                  iteration, n_iterations_test,\n",
        "                  iteration * 100 / n_iterations_test),\n",
        "              end=\" \" * 10)\n",
        "    loss_test = np.mean(loss_tests)\n",
        "    acc_test = np.mean(acc_tests)\n",
        "    print(\"\\rFinal test accuracy: {:.4f}%  Loss: {:.6f}\".format(\n",
        "        acc_test * 100, loss_test))"
      ],
      "execution_count": 0,
      "outputs": []
    },
    {
      "cell_type": "markdown",
      "metadata": {
        "id": "wqjVS9EJu1Wk",
        "colab_type": "text"
      },
      "source": [
        "We reach 99.53% accuracy on the test set. Pretty nice. :)"
      ]
    }
  ]
}